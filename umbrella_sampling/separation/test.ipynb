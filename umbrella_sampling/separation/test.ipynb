{
 "cells": [
  {
   "cell_type": "code",
   "execution_count": 1,
   "id": "a4f5aece",
   "metadata": {},
   "outputs": [],
   "source": [
    "import numpy as np\n",
    "import openmm as mm\n",
    "import openmm.app as app\n",
    "import openmm.unit as unit\n",
    "import sys\n",
    "import os\n",
    "import pandas as pd"
   ]
  },
  {
   "cell_type": "code",
   "execution_count": 2,
   "id": "288c2f1d",
   "metadata": {},
   "outputs": [],
   "source": [
    "\"\"\"r0 values to save\"\"\"\n",
    "\n",
    "windows0 = np.arange(0.90, 2.11, 0.05)\n",
    "windows1 = np.arange(2.2, 4.11, 0.1)\n",
    "windows = np.append(windows0, windows1)\n",
    "\n",
    "\"\"\"System setup\"\"\"\n",
    "\n",
    "dt = 4*unit.femtoseconds\n",
    "\n",
    "# Load param and coord files\n",
    "prmtop = app.AmberPrmtopFile('structures/complex_eq.prmtop')\n",
    "inpcrd = app.AmberInpcrdFile('structures/complex_eq.inpcrd')\n",
    "\n",
    "system = prmtop.createSystem(nonbondedMethod=app.PME, nonbondedCutoff=1.0*unit.nanometer, hydrogenMass=1.5*unit.amu, constraints=app.HBonds)  \n",
    "integrator = mm.LangevinMiddleIntegrator(0.0000*unit.kelvin, 1.0000/unit.picosecond, dt)\n",
    "\n",
    "simulation = app.Simulation(prmtop.topology, system, integrator)\n",
    "simulation.context.setPositions(inpcrd.positions)\n"
   ]
  },
  {
   "cell_type": "code",
   "execution_count": 3,
   "id": "3b84d7c9",
   "metadata": {},
   "outputs": [],
   "source": [
    "\"\"\"RMSD Restraints\"\"\"\n",
    "\n",
    "reference_positions = inpcrd.positions\n",
    "\n",
    "receptor_atoms = [\n",
    "    atom.index for atom in simulation.topology.atoms()\n",
    "    if atom.residue.index in range(0, 172) and atom.name in ('CA', 'C', 'N')\n",
    "]\n",
    "\n",
    "ligand_atoms = [\n",
    "    atom.index for atom in simulation.topology.atoms()\n",
    "    if atom.residue.index in range(173, 282) and atom.name in ('CA', 'C', 'N')\n",
    "]\n",
    "\n",
    "# Add restraining forces for receptor and ligand rmsd\n",
    "receptor_rmsd_force = mm.CustomCVForce('0.5*k_rec*rmsd^2')\n",
    "receptor_rmsd_force.addGlobalParameter('k_rec', 100 * unit.kilocalories_per_mole / unit.angstrom**2)\n",
    "receptor_rmsd_force.addCollectiveVariable('rmsd', mm.RMSDForce(reference_positions, receptor_atoms))\n",
    "system.addForce(receptor_rmsd_force)\n",
    "\n",
    "ligand_rmsd_force = mm.CustomCVForce('0.5*k_lig*rmsd^2')\n",
    "ligand_rmsd_force.addGlobalParameter('k_lig', 100 * unit.kilocalories_per_mole / unit.angstrom**2)\n",
    "ligand_rmsd_force.addCollectiveVariable('rmsd', mm.RMSDForce(reference_positions, ligand_atoms))\n",
    "system.addForce(ligand_rmsd_force)\n",
    "\n",
    "simulation.context.reinitialize(preserveState=True)\n",
    "\n",
    "for atom in simulation.topology.atoms():\n",
    "    if atom.index==receptor_atoms[0] and atom.residue.name!='ASN':\n",
    "        raise ValueError(f'Incorrect residue selection for DCAF16 - residue N1 is missing')\n",
    "    if atom.index==receptor_atoms[-1] and atom.residue.name!='LEU':\n",
    "        raise ValueError(f'Incorrect residue selection for DCAF16 - residue L172 is missing')\n",
    "\n",
    "for atom in simulation.topology.atoms():\n",
    "    if atom.index==ligand_atoms[0] and atom.residue.name!='SER':\n",
    "        raise ValueError(f'Incorrect residue selection for BD2 - residue SER174 is missing')\n",
    "    if atom.index==ligand_atoms[-1] and atom.residue.name!='ASP':\n",
    "        raise ValueError(f'Incorrect residue selection for BD2 - residue ASP282 is missing')\n"
   ]
  },
  {
   "cell_type": "code",
   "execution_count": 4,
   "id": "cc4b367a",
   "metadata": {},
   "outputs": [],
   "source": [
    "\"\"\"Radial separation CV\"\"\"\n",
    "\n",
    "# 1-indexing from MDAnalysis\n",
    "rec_interface_res =  [1, 2, 3, 4, 7, 8, 10, 11, 12, 13, 14, 15, 16, 17, 18, 19, 20, 21, 22, 56, 58, 130, 131, 132, 133, 134, 135, 136, 137, 138, 139, 140, 153, 154, 155, 156]\n",
    "lig_interface_res =  [193, 194, 195, 197, 198, 203, 204, 205, 206, 207, 208, 209, 210, 211, 212, 213, 255, 256, 257, 259, 260, 261, 262, 263, 264, 265]\n",
    "\n",
    "# Account for OpenMM residue 0-indexing\n",
    "rec_interface_res = -1 + np.array(rec_interface_res) \n",
    "lig_interface_res = -1 + np.array(lig_interface_res)\n",
    "\n",
    "rec_group = [\n",
    "    atom.index for atom in simulation.topology.atoms()\n",
    "    if atom.residue.index in rec_interface_res and atom.name=='CA'\n",
    "]\n",
    "\n",
    "lig_group = [\n",
    "    atom.index for atom in simulation.topology.atoms()\n",
    "    if atom.residue.index in lig_interface_res and atom.name=='CA'\n",
    "]\n",
    "\n",
    "# Define radial distance as collective variable which we will vary\n",
    "cv = mm.CustomCentroidBondForce(2, \"distance(g1,g2)\")\n",
    "cv.addGroup(np.array(rec_group))\n",
    "cv.addGroup(np.array(lig_group))\n",
    "\n",
    "# Specify bond groups\n",
    "bondGroups = [0, 1]\n",
    "cv.addBond(bondGroups)\n",
    "\n",
    "r_0 = 1.1 * unit.nanometers #Set initial separation of 11.5 Angstrom\n",
    "\n",
    "# Define biasing potential\n",
    "bias_pot = mm.CustomCVForce('0.5 * k_r * (cv-r_0)^2')\n",
    "bias_pot.addGlobalParameter('k_r', 10 * unit.kilocalories_per_mole / unit.angstrom**2)\n",
    "bias_pot.addGlobalParameter('r_0', r_0)\n",
    "\n",
    "bias_pot.addCollectiveVariable('cv', cv)\n",
    "system.addForce(bias_pot)\n",
    "\n",
    "simulation.context.reinitialize(preserveState=True)"
   ]
  },
  {
   "cell_type": "code",
   "execution_count": 5,
   "id": "c4a3a2ac",
   "metadata": {},
   "outputs": [
    {
     "name": "stdout",
     "output_type": "stream",
     "text": [
      "Anchor points:\n",
      "<Atom 107 (CA) of chain 0 residue 7 (LEU)>\n",
      "<Atom 2233 (CA) of chain 0 residue 141 (VAL)>\n",
      "<Atom 3506 (CA) of chain 0 residue 221 (ASP)>\n",
      "<Atom 4147 (CA) of chain 0 residue 261 (VAL)>\n",
      "\n",
      "Atomic indices:\n",
      "rec_group = [4, 18, 37, 56, 96, 107, 136, 160, 177, 193, 215, 226, 245, 264, 286, 307, 318, 332, 346, 920, 941, 2068, 2084, 2095, 2102, 2112, 2123, 2133, 2140, 2164, 2183, 2197, 2414, 2428, 2442, 2463]\n",
      "idx_b = 107\n",
      "idx_c = 2233\n",
      "lig_group = [3045, 3055, 3065, 3096, 3128, 3211, 3227, 3239, 3255, 3270, 3280, 3299, 3306, 3325, 3342, 3354, 4040, 4061, 4083, 4103, 4115, 4132, 4147, 4163, 4179, 4189]\n",
      "idx_B = 4147\n",
      "idx_C = 3506\n",
      "\n"
     ]
    }
   ],
   "source": [
    "\"\"\"Boresch restraints\"\"\"\n",
    "\n",
    "def obtain_CA_idx(res_idx):\n",
    "\n",
    "    \"\"\"Function to obtain the index of the alpha carbon for a given residue index\"\"\"\n",
    "    \n",
    "    atom_idx = None\n",
    "\n",
    "    for atom in simulation.topology.atoms():\n",
    "        if atom.residue.index == res_idx and atom.name=='CA':\n",
    "            atom_idx = atom.index\n",
    "    \n",
    "    return atom_idx\n",
    "    \n",
    "# Boresch_residues = [13, 8, 142, 370, 332, 244]\n",
    "\n",
    "# Define anchor points (1-indexing)\n",
    "res_b = 8\n",
    "res_c = 142\n",
    "res_B = 262\n",
    "res_C = 222\n",
    "\n",
    "# Account for OpenMM 0-indexing \n",
    "res_b -=1 \n",
    "res_c -=1\n",
    "res_B -=1\n",
    "res_C -=1\n",
    "\n",
    "# Find atomic indices\n",
    "idx_b = obtain_CA_idx(res_b)\n",
    "idx_c = obtain_CA_idx(res_c)\n",
    "idx_B = obtain_CA_idx(res_B)\n",
    "idx_C = obtain_CA_idx(res_C)\n",
    "\n",
    "print('Anchor points:')\n",
    "for atom in simulation.topology.atoms():\n",
    "    if atom.index in [idx_b, idx_c, idx_B, idx_C]:\n",
    "        print(atom)\n",
    "\n",
    "# Check that we have only selected CA anchor points\n",
    "all_atoms = rec_group + [idx_b] + [idx_c] + lig_group + [idx_B] + [idx_C]\n",
    "for atom in simulation.topology.atoms():\n",
    "    if atom.index in all_atoms and atom.name != 'CA':\n",
    "        raise ValueError('Select only CA atoms as anchorpoints')\n",
    "    \n",
    "print(\"\\nAtomic indices:\")\n",
    "print(f\"rec_group = {rec_group}\")\n",
    "print(f\"idx_b = {idx_b}\")\n",
    "print(f\"idx_c = {idx_c}\")\n",
    "print(f\"lig_group = {lig_group}\")\n",
    "print(f\"idx_B = {idx_B}\")\n",
    "print(f\"idx_C = {idx_C}\\n\")\n",
    "    \n",
    "# Equilibrium values of Boresch dof\n",
    "theta_A_0 = 1.65\n",
    "theta_B_0 = 1.62\n",
    "phi_A_0 = -2.03\n",
    "phi_B_0 = -0.94\n",
    "phi_C_0 = 2.07\n",
    "\n",
    "k_Boresch = 200 * unit.kilocalories_per_mole / unit.radians**2 #Set global force constant\n",
    "\n",
    "theta_A_pot = mm.CustomCentroidBondForce(3, '0.5 * k_Boresch * (angle(g1,g2,g3)-theta_A_0)^2')\n",
    "theta_A_pot.addGlobalParameter('theta_A_0', theta_A_0)\n",
    "theta_A_pot.addGlobalParameter('k_Boresch', k_Boresch)\n",
    "\n",
    "# Add the particle groups\n",
    "theta_A_pot.addGroup([idx_b])\n",
    "theta_A_pot.addGroup(np.array(rec_group))\n",
    "theta_A_pot.addGroup(np.array(lig_group))\n",
    "\n",
    "# Add the centroid angle bond\n",
    "theta_A_pot.addBond([0, 1, 2])\n",
    "\n",
    "system.addForce(theta_A_pot)\n",
    "\n",
    "theta_B_pot = mm.CustomCentroidBondForce(3, '0.5 * k_Boresch * (angle(g1,g2,g3)-theta_B_0)^2')\n",
    "theta_B_pot.addGlobalParameter('theta_B_0', theta_B_0)\n",
    "theta_B_pot.addGlobalParameter('k_Boresch', k_Boresch)\n",
    "\n",
    "# Add the particle groups\n",
    "theta_B_pot.addGroup(np.array(rec_group))\n",
    "theta_B_pot.addGroup(np.array(lig_group))\n",
    "theta_B_pot.addGroup([idx_B])\n",
    "\n",
    "# Add the centroid angle bond\n",
    "theta_B_pot.addBond([0, 1, 2])\n",
    "\n",
    "system.addForce(theta_B_pot)\n",
    "\n",
    "phi_A_pot = mm.CustomCentroidBondForce(4, \"0.5*k_Boresch*min(dtheta, 2*pi-dtheta)^2; dtheta = abs(dihedral(g1,g2,g3,g4)-phi_A_0); pi = 3.1415926535\")\n",
    "phi_A_pot.addGlobalParameter('phi_A_0', phi_A_0)\n",
    "phi_A_pot.addGlobalParameter('k_Boresch', k_Boresch)\n",
    "\n",
    "# Add the particle groups\n",
    "phi_A_pot.addGroup([idx_c])\n",
    "phi_A_pot.addGroup([idx_b])\n",
    "phi_A_pot.addGroup(np.array(rec_group))\n",
    "phi_A_pot.addGroup(np.array(lig_group))\n",
    "\n",
    "# Add the centroid angle bond\n",
    "phi_A_pot.addBond([0, 1, 2, 3])\n",
    "\n",
    "system.addForce(phi_A_pot)\n",
    "\n",
    "phi_B_pot = mm.CustomCentroidBondForce(4, \"0.5*k_Boresch*min(dtheta, 2*pi-dtheta)^2; dtheta = abs(dihedral(g1,g2,g3,g4)-phi_B_0); pi = 3.1415926535\")\n",
    "phi_B_pot.addGlobalParameter('phi_B_0', phi_B_0)\n",
    "phi_B_pot.addGlobalParameter('k_Boresch', k_Boresch)\n",
    "\n",
    "# Add the particle groups\n",
    "phi_B_pot.addGroup([idx_b])\n",
    "phi_B_pot.addGroup(np.array(rec_group))\n",
    "phi_B_pot.addGroup(np.array(lig_group))\n",
    "phi_B_pot.addGroup([idx_B])\n",
    "\n",
    "# Add the centroid angle bond\n",
    "phi_B_pot.addBond([0, 1, 2, 3])\n",
    "\n",
    "system.addForce(phi_B_pot)\n",
    "\n",
    "phi_C_pot = mm.CustomCentroidBondForce(4, \"0.5*k_Boresch*min(dtheta, 2*pi-dtheta)^2; dtheta = abs(dihedral(g1,g2,g3,g4)-phi_C_0); pi = 3.1415926535\")\n",
    "phi_C_pot.addGlobalParameter('phi_C_0', phi_C_0)\n",
    "phi_C_pot.addGlobalParameter('k_Boresch', k_Boresch)\n",
    "\n",
    "# Add the particle groups\n",
    "phi_C_pot.addGroup(np.array(rec_group))\n",
    "phi_C_pot.addGroup(np.array(lig_group))\n",
    "phi_C_pot.addGroup([idx_B])\n",
    "phi_C_pot.addGroup([idx_C])\n",
    "\n",
    "# Add the centroid angle bond\n",
    "phi_C_pot.addBond([0, 1, 2, 3])\n",
    "\n",
    "system.addForce(phi_C_pot)\n",
    "\n",
    "simulation.context.reinitialize(preserveState=True)"
   ]
  },
  {
   "cell_type": "code",
   "execution_count": 7,
   "id": "46479505",
   "metadata": {},
   "outputs": [
    {
     "name": "stdout",
     "output_type": "stream",
     "text": [
      "[3045, 3055, 3065, 3096, 3128, 3211, 3227, 3239, 3255, 3270, 3280, 3299, 3306, 3325, 3342, 3354, 4040, 4061, 4083, 4103, 4115, 4132, 4147, 4163, 4179, 4189]\n"
     ]
    }
   ],
   "source": [
    "print(lig_group)"
   ]
  },
  {
   "cell_type": "code",
   "execution_count": 10,
   "id": "0d0d2023",
   "metadata": {},
   "outputs": [
    {
     "name": "stdout",
     "output_type": "stream",
     "text": [
      "[3, 5, 4]\n"
     ]
    }
   ],
   "source": [
    "lengths = []\n",
    "\n",
    "for word in ['red', 'green', 'blue']:\n",
    "    lengths.append(len(word))\n",
    "\n",
    "print(lengths)"
   ]
  },
  {
   "cell_type": "code",
   "execution_count": null,
   "id": "bd58ffa0",
   "metadata": {},
   "outputs": [
    {
     "name": "stdout",
     "output_type": "stream",
     "text": [
      "\n",
      "red \n",
      "red green \n",
      "red green blue \n"
     ]
    }
   ],
   "source": [
    "lengths = ''\n",
    "\n",
    "for word in ['red', 'green', 'blue']:\n",
    "    print(lengths)\n",
    "    lengths = lengths + word + ' '\n",
    "\n",
    "print(lengths)"
   ]
  },
  {
   "cell_type": "code",
   "execution_count": 4,
   "id": "20bb8031",
   "metadata": {},
   "outputs": [
    {
     "name": "stdout",
     "output_type": "stream",
     "text": [
      "90.0\n"
     ]
    }
   ],
   "source": [
    "import math\n",
    "\n",
    "angle_rad = math.pi/2 # radians\n",
    "angle_deg = math.degrees(angle_rad)\n",
    "print(angle_deg)"
   ]
  },
  {
   "cell_type": "code",
   "execution_count": 6,
   "id": "67adf1db",
   "metadata": {},
   "outputs": [
    {
     "data": {
      "text/plain": [
       "'RGB'"
      ]
     },
     "execution_count": 6,
     "metadata": {},
     "output_type": "execute_result"
    }
   ],
   "source": [
    "acronym = \"\"\n",
    "\n",
    "for colour in ['red', 'green', 'blue']:\n",
    "    first_letter = colour[0]\n",
    "    acronym = acronym + first_letter.upper()\n",
    "\n",
    "acronym"
   ]
  }
 ],
 "metadata": {
  "kernelspec": {
   "display_name": "Python 3",
   "language": "python",
   "name": "python3"
  },
  "language_info": {
   "codemirror_mode": {
    "name": "ipython",
    "version": 3
   },
   "file_extension": ".py",
   "mimetype": "text/x-python",
   "name": "python",
   "nbconvert_exporter": "python",
   "pygments_lexer": "ipython3",
   "version": "3.11.13"
  }
 },
 "nbformat": 4,
 "nbformat_minor": 5
}
